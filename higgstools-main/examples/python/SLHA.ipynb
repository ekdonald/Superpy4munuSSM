{
 "cells": [
  {
   "cell_type": "markdown",
   "metadata": {},
   "source": [
    "# Example for running HiggsTools with SLHA input"
   ]
  },
  {
   "cell_type": "code",
   "execution_count": null,
   "metadata": {},
   "outputs": [],
   "source": [
    "import Higgs.bounds as HB\n",
    "import Higgs.tools.Input as hinput\n",
    "import Higgs.signals as HS\n",
    "\n",
    "# initialize HiggsBounds and Higgs signals\n",
    "bounds = HB.Bounds('/Path/To/HBDataSet')\n",
    "signals = HS.Signals('/Path/To/HSDataSet')"
   ]
  },
  {
   "cell_type": "markdown",
   "metadata": {},
   "source": [
    "### Load SLHA file as input for HiggsPredictions"
   ]
  },
  {
   "cell_type": "code",
   "execution_count": null,
   "metadata": {},
   "outputs": [],
   "source": [
    "# SLHA particle IDs for neutral and charged scalars\n",
    "neutralIds = [25,35,45,36,46]\n",
    "chargedIds = [37]\n",
    "neutralIdStrings = [str(id) for id in neutralIds]\n",
    "chargedIdStrings = [str(id) for id in chargedIds]\n",
    "\n",
    "# use SLHA file as input for HiggsPredictions\n",
    "dc = hinput.readHB5SLHA('example.slha', neutralIds, chargedIds)\n",
    "pred = hinput.predictionsFromDict(dc, neutralIdStrings, chargedIdStrings, [])\n",
    "h = pred.particle('25')"
   ]
  },
  {
   "cell_type": "markdown",
   "metadata": {},
   "source": [
    "### Derive HiggsBounds and HiggsSignals results"
   ]
  },
  {
   "cell_type": "code",
   "execution_count": null,
   "metadata": {},
   "outputs": [],
   "source": [
    "# evaluate HiggsBounds\n",
    "hbresult = bounds(pred)\n",
    "print(hbresult)\n",
    "\n",
    "# evaluate HiggsSignals\n",
    "chisq = signals(pred)\n",
    "print(f\"HiggsSignals chisq: {chisq}\")"
   ]
  }
 ],
 "metadata": {
  "interpreter": {
   "hash": "949777d72b0d2535278d3dc13498b2535136f6dfe0678499012e853ee9abcab1"
  },
  "kernelspec": {
   "display_name": "Python 3.9.12 64-bit",
   "language": "python",
   "name": "python3"
  },
  "language_info": {
   "codemirror_mode": {
    "name": "ipython",
    "version": 3
   },
   "file_extension": ".py",
   "mimetype": "text/x-python",
   "name": "python",
   "nbconvert_exporter": "python",
   "pygments_lexer": "ipython3",
   "version": "3.9.12"
  }
 },
 "nbformat": 4,
 "nbformat_minor": 4
}
