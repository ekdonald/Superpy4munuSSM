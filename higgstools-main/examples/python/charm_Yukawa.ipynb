{
 "cells": [
  {
   "cell_type": "markdown",
   "metadata": {},
   "source": [
    "# Example for running HiggsSignals to constrain the Higgs charm Yukawa coupling"
   ]
  },
  {
   "cell_type": "code",
   "execution_count": null,
   "metadata": {},
   "outputs": [],
   "source": [
    "import Higgs.predictions as HP\n",
    "import Higgs.signals as HS\n",
    "import numpy as np\n",
    "import pandas as pd\n",
    "\n",
    "pred = HP.Predictions() # create the model predictions\n",
    "signals = HS.Signals('/Path/To/HSDataSet') # load HS dataset"
   ]
  },
  {
   "cell_type": "markdown",
   "metadata": {},
   "source": [
    "### HiggsPredictions input"
   ]
  },
  {
   "cell_type": "code",
   "execution_count": null,
   "metadata": {},
   "outputs": [],
   "source": [
    "# add a SM-like particle\n",
    "h = pred.addParticle(HP.NeutralScalar(\"h\", \"even\"))\n",
    "h.setMass(125.09)\n",
    "\n",
    "# initalize effC object\n",
    "cpls = HP.NeutralEffectiveCouplings()\n",
    "cpls.tt = 1\n",
    "cpls.bb = 1\n",
    "cpls.tautau = 1\n",
    "cpls.ss = 1\n",
    "cpls.mumu = 1\n",
    "cpls.gg = 1\n",
    "cpls.ZZ = 1\n",
    "cpls.WW = 1\n",
    "cpls.gamgam = 1\n",
    "cpls.Zgam = 1"
   ]
  },
  {
   "cell_type": "code",
   "execution_count": null,
   "metadata": {},
   "outputs": [],
   "source": [
    "def setEffC(ccRe, ccIm, refModel):\n",
    "    cpls.cc = ccRe + 1j * ccIm\n",
    "    HP.effectiveCouplingInput(h, cpls, reference = refModel)"
   ]
  },
  {
   "cell_type": "markdown",
   "metadata": {},
   "source": [
    "### Run HiggsSignals"
   ]
  },
  {
   "cell_type": "markdown",
   "metadata": {},
   "source": [
    "setup scanning ranges"
   ]
  },
  {
   "cell_type": "code",
   "execution_count": null,
   "metadata": {},
   "outputs": [],
   "source": [
    "df = pd.DataFrame()\n",
    "\n",
    "N = 100\n",
    "\n",
    "x = np.linspace(-3, 3, N)\n",
    "y = np.linspace(-3, 3, N)\n",
    "X, Y = np.meshgrid(x, y)\n",
    "\n",
    "df['ccRe'] = X.flatten()\n",
    "df['ccIm'] = Y.flatten()"
   ]
  },
  {
   "cell_type": "markdown",
   "metadata": {},
   "source": [
    "derive HS results"
   ]
  },
  {
   "cell_type": "code",
   "execution_count": null,
   "metadata": {},
   "outputs": [],
   "source": [
    "@np.vectorize\n",
    "def calcChisq(ccRe, ccIm, refModel):\n",
    "    setEffC(ccRe, ccIm, refModel)\n",
    "    return signals(pred)"
   ]
  },
  {
   "cell_type": "code",
   "execution_count": null,
   "metadata": {},
   "outputs": [],
   "source": [
    "df['chisqSMHiggs']   = calcChisq(df['ccRe'], df['ccIm'], \"SMHiggs\")\n",
    "df['chisqSMHiggsEW'] = calcChisq(df['ccRe'], df['ccIm'], \"SMHiggsEW\")"
   ]
  },
  {
   "cell_type": "markdown",
   "metadata": {},
   "source": [
    "calculate $\\Delta\\chi^2$ and cut-off all values above $14.01$ for plotting"
   ]
  },
  {
   "cell_type": "code",
   "execution_count": null,
   "metadata": {},
   "outputs": [],
   "source": [
    "df['dchisqSMHiggs']   = df['chisqSMHiggs'] - df['chisqSMHiggs'].min()\n",
    "df['dchisqSMHiggsEW'] = df['chisqSMHiggsEW'] - df['chisqSMHiggsEW'].min()\n",
    "\n",
    "bound = 14.01\n",
    "\n",
    "@np.vectorize\n",
    "def cutChisq(e):\n",
    "    if e < bound:\n",
    "        return e\n",
    "    else:\n",
    "        return bound\n",
    "\n",
    "df['dchisqSMHiggs']   = cutChisq(df['dchisqSMHiggs'])\n",
    "df['dchisqSMHiggsEW'] = cutChisq(df['dchisqSMHiggsEW'])"
   ]
  },
  {
   "cell_type": "markdown",
   "metadata": {},
   "source": [
    "### Plotting"
   ]
  },
  {
   "cell_type": "code",
   "execution_count": null,
   "metadata": {},
   "outputs": [],
   "source": [
    "from scipy import interpolate\n",
    "import matplotlib as mpl\n",
    "import matplotlib.pyplot as plt\n",
    "from matplotlib.ticker import MultipleLocator\n",
    "from matplotlib.lines import Line2D\n",
    "from mpl_toolkits.axes_grid1 import make_axes_locatable\n",
    "\n",
    "mpl.rcParams['ytick.right'] = True\n",
    "mpl.rcParams['xtick.top'] = True\n",
    "mpl.rcParams['xtick.direction'] = 'in'\n",
    "mpl.rcParams['ytick.direction'] = 'in'\n",
    "mpl.rcParams['text.usetex'] = True\n",
    "mpl.rcParams['font.family'] = 'serif'"
   ]
  },
  {
   "cell_type": "code",
   "execution_count": null,
   "metadata": {},
   "outputs": [],
   "source": [
    "fig, axs = plt.subplots(\n",
    "        nrows=1, ncols=2,\n",
    "        figsize=(1.0 * 6.8, 1.16 * 3.4),\n",
    "#       aspect='equal',\n",
    "        constrained_layout=True)\n",
    "\n",
    "annot = [r'$\\mathrm{SMHiggsEW}$', r'$\\mathrm{SMHiggs}$']\n",
    "ids = ['dchisqSMHiggsEW', 'dchisqSMHiggs']\n",
    "\n",
    "for i, id in enumerate(ids):\n",
    "        Z = interpolate.griddata( (df['ccRe'], df['ccIm']), df[id], (X, Y), method='linear')\n",
    "\n",
    "        pcm = axs[i].pcolormesh(\n",
    "                X, Y, Z,\n",
    "                cmap='GnBu_r',\n",
    "                rasterized=True\n",
    "        )\n",
    "\n",
    "        the_divider = make_axes_locatable(axs[i])\n",
    "        cax = the_divider.append_axes(\"top\", size=\"3.4%\", pad=0.1)\n",
    "        clb = fig.colorbar(\n",
    "            pcm,\n",
    "            ticks=np.arange(0, bound, 1),\n",
    "            cax=cax,\n",
    "            orientation=\"horizontal\"\n",
    "        )\n",
    "        cax.xaxis.set_ticks_position(\"top\")\n",
    "        cax.xaxis.set_label_position(\"top\")\n",
    "        clb.set_label(r\"$\\Delta\\chi^2$\")\n",
    "        clb.ax.minorticks_on()\n",
    "\n",
    "        axs[i].contour(\n",
    "            X, Y, Z,\n",
    "            levels=[2.3, 5.99, 9.21],\n",
    "            colors=\"k\",\n",
    "            linestyles=[\"-\", \"--\", \":\"],\n",
    "        )\n",
    "\n",
    "        bfp = np.unravel_index( np.argmin(Z), Z.shape)\n",
    "        axs[i].plot( x[bfp[1]], y[bfp[0]], marker=\"*\", ls=\"none\", c=\"orange\")\n",
    "        \n",
    "        axs[i].set_aspect('equal', 'box')\n",
    "        axs[i].set_xlim([-3, 3])\n",
    "        axs[i].set_ylim([-3, 3])\n",
    "\n",
    "        percent = \"\\%\" if plt.rcParams[\"text.usetex\"] else \"%\"\n",
    "        hsLegend = axs[i].legend(\n",
    "            handles=[\n",
    "                Line2D([0], [0], color=\"k\", ls=\"-\", label=f\"HS 68{percent} CL\"),\n",
    "                Line2D([0], [0], color=\"k\", ls=\"--\", label=f\"HS 95{percent} CL\"),\n",
    "                Line2D([0], [0], color=\"k\", ls=\":\", label=f\"HS 99{percent} CL\"),\n",
    "                Line2D([0], [0], color=\"orange\", ls=\"none\", marker=\"*\", label=\"HS BFP\"),\n",
    "            ],\n",
    "            loc=\"upper left\",\n",
    "            frameon=False,\n",
    "            ncol=2\n",
    "        )\n",
    "        axs[i].add_artist(hsLegend)\n",
    "\n",
    "        axs[i].xaxis.set_major_locator(MultipleLocator(1))\n",
    "        axs[i].xaxis.set_minor_locator(MultipleLocator(0.1))\n",
    "        axs[i].yaxis.set_major_locator(MultipleLocator(1))\n",
    "        axs[i].yaxis.set_minor_locator(MultipleLocator(0.1))\n",
    "\n",
    "        axs[i].set_xlabel(r'$c_c$')\n",
    "        axs[i].set_ylabel(r'$\\tilde c_c$')\n",
    "\n",
    "        axs[i].text(\n",
    "            0.97,\n",
    "            0.03,\n",
    "            annot[i],\n",
    "            horizontalalignment='right',\n",
    "            verticalalignment='bottom',\n",
    "            transform=axs[i].transAxes,\n",
    "        )\n",
    "\n",
    "        axs[i].text(\n",
    "            0.03,\n",
    "            0.03,\n",
    "            r\"\\texttt{HiggsSignals}\"\n",
    "            if plt.rcParams[\"text.usetex\"]\n",
    "            else r\"$\\mathrm{HiggsSignals}$\",\n",
    "            horizontalalignment=\"left\",\n",
    "            verticalalignment=\"bottom\",\n",
    "            transform=axs[i].transAxes,\n",
    "        )\n",
    "\n",
    "plt.savefig('cc.pdf')\n",
    "plt.show()"
   ]
  },
  {
   "cell_type": "code",
   "execution_count": null,
   "metadata": {},
   "outputs": [],
   "source": []
  }
 ],
 "metadata": {
  "interpreter": {
   "hash": "949777d72b0d2535278d3dc13498b2535136f6dfe0678499012e853ee9abcab1"
  },
  "kernelspec": {
   "display_name": "Python 3.9.12 64-bit",
   "language": "python",
   "name": "python3"
  },
  "language_info": {
   "codemirror_mode": {
    "name": "ipython",
    "version": 3
   },
   "file_extension": ".py",
   "mimetype": "text/x-python",
   "name": "python",
   "nbconvert_exporter": "python",
   "pygments_lexer": "ipython3",
   "version": "3.9.13"
  }
 },
 "nbformat": 4,
 "nbformat_minor": 4
}
