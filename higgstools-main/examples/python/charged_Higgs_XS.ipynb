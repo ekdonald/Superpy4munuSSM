{
 "cells": [
  {
   "cell_type": "markdown",
   "metadata": {},
   "source": [
    "# Example for running HiggsBounds with a charged Higgs boson"
   ]
  },
  {
   "cell_type": "code",
   "execution_count": null,
   "metadata": {},
   "outputs": [],
   "source": [
    "import Higgs.predictions as HP\n",
    "import Higgs.bounds as HB\n",
    "\n",
    "pred = HP.Predictions() # create the model predictions\n",
    "bounds = HB.Bounds('/Path/To/HBDataSet') # load HB dataset"
   ]
  },
  {
   "cell_type": "markdown",
   "metadata": {},
   "source": [
    "### Add a singly-charged scalar with a mass of 200 GeV"
   ]
  },
  {
   "cell_type": "code",
   "execution_count": null,
   "metadata": {},
   "outputs": [],
   "source": [
    "Hpm = pred.addParticle(HP.ChargedScalar(\"Hpm\"))\n",
    "Hpm.setMass(200)"
   ]
  },
  {
   "cell_type": "markdown",
   "metadata": {},
   "source": [
    "### Set $p p \\to H^\\pm t b$ production cross section\n",
    "\n",
    "Here, we use the effective couplings for a type-I 2HDM with tanb = 1 as an example. \n",
    "\n",
    "Other available XS are e.g. `HP.EffectiveCouplingCxns.ppHpmPhi`, `HP.EffectiveCouplingCxns.udHmgam`, ...; see https://higgsbounds.gitlab.io/higgstools/EffC_Refs.html for a complete list."
   ]
  },
  {
   "cell_type": "code",
   "execution_count": null,
   "metadata": {},
   "outputs": [],
   "source": [
    "tanb = 1\n",
    "Hpmtb_XS = HP.EffectiveCouplingCxns.ppHpmtb('LHC13', mass=Hpm.mass(), cHpmtbR=1/tanb, cHpmtbL=1/tanb, brtHpb=0)\n",
    "Hpm.setCxn('LHC13', 'Hpmtb', Hpmtb_XS)\n"
   ]
  },
  {
   "cell_type": "markdown",
   "metadata": {},
   "source": [
    "### Set $H^\\pm \\to \\tau \\nu_\\tau$ decay width as an exemplary decay"
   ]
  },
  {
   "cell_type": "code",
   "execution_count": null,
   "metadata": {},
   "outputs": [],
   "source": [
    "Hpm.setTotalWidth(10)\n",
    "Hpm.setBr('taunu', 0.1)"
   ]
  },
  {
   "cell_type": "markdown",
   "metadata": {},
   "source": [
    "### Get HiggsBounds results"
   ]
  },
  {
   "cell_type": "code",
   "execution_count": null,
   "metadata": {},
   "outputs": [],
   "source": [
    "res = bounds(pred)\n",
    "print(res)"
   ]
  }
 ],
 "metadata": {
  "interpreter": {
   "hash": "949777d72b0d2535278d3dc13498b2535136f6dfe0678499012e853ee9abcab1"
  },
  "kernelspec": {
   "display_name": "Python 3.9.12 64-bit",
   "language": "python",
   "name": "python3"
  },
  "language_info": {
   "codemirror_mode": {
    "name": "ipython",
    "version": 3
   },
   "file_extension": ".py",
   "mimetype": "text/x-python",
   "name": "python",
   "nbconvert_exporter": "python",
   "pygments_lexer": "ipython3",
   "version": "3.9.12"
  }
 },
 "nbformat": 4,
 "nbformat_minor": 4
}
