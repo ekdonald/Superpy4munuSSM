{
 "cells": [
  {
   "cell_type": "code",
   "execution_count": null,
   "metadata": {},
   "outputs": [],
   "source": [
    "import Higgs.predictions as HP\n",
    "import Higgs.bounds as HB\n",
    "import Higgs.signals as HS\n",
    "import numpy as np\n",
    "import matplotlib as mpl\n",
    "import matplotlib.pyplot as plt\n",
    "from matplotlib.ticker import MultipleLocator\n",
    "\n",
    "mpl.rcParams['ytick.right'] = True\n",
    "mpl.rcParams['xtick.top'] = True\n",
    "mpl.rcParams['xtick.direction'] = 'in'\n",
    "mpl.rcParams['ytick.direction'] = 'in'\n",
    "mpl.rcParams['text.usetex'] = True\n",
    "mpl.rcParams['text.latex.preamble'] = r'\\usepackage{amsfonts}'\n",
    "mpl.rcParams['font.family'] = 'serif'\n",
    "mpl.rcParams['font.size'] = '16'"
   ]
  },
  {
   "cell_type": "code",
   "execution_count": null,
   "metadata": {},
   "outputs": [],
   "source": [
    "pred = HP.Predictions() # create the model predictions\n",
    "bounds = HB.Bounds('/Path/To/HBDataSet') # load HB dataset\n",
    "\n",
    "# add a SM-like particle\n",
    "h = pred.addParticle(HP.NeutralScalar(\"h\", \"even\"))\n",
    "\n",
    "h.setMass(125)\n",
    "HP.effectiveCouplingInput(h, HP.smLikeEffCouplings)\n",
    "\n",
    "# evaluate HiggsBounds\n",
    "hbresult = bounds(pred)"
   ]
  },
  {
   "cell_type": "code",
   "execution_count": null,
   "metadata": {},
   "outputs": [],
   "source": [
    "h.setMass(125)\n",
    "HP.effectiveCouplingInput(h, HP.smLikeEffCouplings)\n",
    "res1 = np.empty((0,2))\n",
    "for massUnc in np.linspace(0, 7, 40):\n",
    "    h.setMassUnc(massUnc)\n",
    "    hbresult = bounds(pred)\n",
    "    try:\n",
    "        obsRatio = [alim.obsRatio() for alim in hbresult.appliedLimits if alim.limit().id() == 12045][0]\n",
    "    except:\n",
    "        obsRatio = 100.\n",
    "    res1 = np.append(res1, np.array([[massUnc, obsRatio]]), axis=0)\n",
    "\n",
    "h.setMass(130)\n",
    "HP.effectiveCouplingInput(h, HP.smLikeEffCouplings)\n",
    "res2 = np.empty((0,2))\n",
    "for massUnc in np.linspace(0, 7, 40):\n",
    "    h.setMassUnc(massUnc)\n",
    "    hbresult = bounds(pred)\n",
    "    try:\n",
    "        obsRatio = [alim.obsRatio() for alim in hbresult.appliedLimits if alim.limit().id() == 12045][0]\n",
    "    except:\n",
    "        obsRatio = 100.\n",
    "    res2 = np.append(res2, np.array([[massUnc, obsRatio]]), axis=0)"
   ]
  },
  {
   "cell_type": "code",
   "execution_count": null,
   "metadata": {},
   "outputs": [],
   "source": [
    "fig, ax = plt.subplots()\n",
    "\n",
    "plt.plot(res2[:,0], res2[:,1], ls='-', color='b', label=r'$m_h=130\\,\\rm{GeV}$')\n",
    "plt.plot(res1[:,0], res1[:,1], ls='--', color='r', label=r'$m_h=125\\,\\rm{GeV}$')\n",
    "\n",
    "plt.hlines([1], 0, 7, color='gray', ls=':')\n",
    "\n",
    "plt.xlim([0,7])\n",
    "plt.ylim([0.7, 1.6])\n",
    "\n",
    "ax.xaxis.set_major_locator(MultipleLocator(1))\n",
    "ax.xaxis.set_minor_locator(MultipleLocator(.5))\n",
    "ax.yaxis.set_major_locator(MultipleLocator(.2))\n",
    "ax.yaxis.set_minor_locator(MultipleLocator(.1))\n",
    "\n",
    "plt.xlabel(r'$\\Delta m_h$ [GeV]')\n",
    "plt.ylabel(r'$(\\sigma/\\sigma_{\\rm{obs}})_{\\rm{CMS-PAS-HIG-12-045}}$')\n",
    "\n",
    "plt.title(r'single Higgs boson with SM-like couplings')\n",
    "\n",
    "plt.legend()\n",
    "\n",
    "plt.savefig('obsratio_dm.pdf')\n",
    "\n",
    "plt.show()"
   ]
  },
  {
   "cell_type": "code",
   "execution_count": null,
   "metadata": {},
   "outputs": [],
   "source": []
  }
 ],
 "metadata": {
  "interpreter": {
   "hash": "949777d72b0d2535278d3dc13498b2535136f6dfe0678499012e853ee9abcab1"
  },
  "kernelspec": {
   "display_name": "Python 3.9.12 64-bit",
   "language": "python",
   "name": "python3"
  },
  "language_info": {
   "codemirror_mode": {
    "name": "ipython",
    "version": 3
   },
   "file_extension": ".py",
   "mimetype": "text/x-python",
   "name": "python",
   "nbconvert_exporter": "python",
   "pygments_lexer": "ipython3",
   "version": "3.9.12"
  }
 },
 "nbformat": 4,
 "nbformat_minor": 4
}
