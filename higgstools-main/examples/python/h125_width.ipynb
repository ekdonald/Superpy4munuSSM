{
 "cells": [
  {
   "cell_type": "markdown",
   "metadata": {},
   "source": [
    "# Example for running HiggsSignals to constrain the Higgs $\\text{BR}(h_{125}\\to\\text{NP})$ as a function of $c_\\text{eff}$"
   ]
  },
  {
   "cell_type": "code",
   "execution_count": null,
   "metadata": {},
   "outputs": [],
   "source": [
    "import Higgs.predictions as HP\n",
    "import Higgs.signals as HS\n",
    "import numpy as np\n",
    "import pandas as pd\n",
    "\n",
    "pred = HP.Predictions() # create the model predictions\n",
    "signals = HS.Signals('/Path/To/HSDataSet') # load HS dataset"
   ]
  },
  {
   "cell_type": "markdown",
   "metadata": {},
   "source": [
    "### HiggsPredictions input"
   ]
  },
  {
   "cell_type": "code",
   "execution_count": null,
   "metadata": {},
   "outputs": [],
   "source": [
    "# add a SM-like particle\n",
    "h = pred.addParticle(HP.NeutralScalar(\"h\", \"even\"))\n",
    "h.setMass(125.09)"
   ]
  },
  {
   "cell_type": "code",
   "execution_count": null,
   "metadata": {},
   "outputs": [],
   "source": [
    "# function to set h couplings to SM particles, which are enhanced w.r.t. to the SM by the factor ceff\n",
    "def setEffC(ceff):\n",
    "    HP.effectiveCouplingInput(h, HP.scaledSMlikeEffCouplings(ceff), reference=\"SMHiggsEW\")\n",
    "\n",
    "# function to set an additional BR to new phyics\n",
    "def setBRNP(BRNP):\n",
    "    tw_before = h.totalWidth()\n",
    "    dw_NP = BRNP * tw_before / (1 - BRNP)\n",
    "    h.setDecayWidth('dummy', 'dummy', dw_NP)\n",
    "    tw_new = h.totalWidth()\n",
    "    return tw_new"
   ]
  },
  {
   "cell_type": "markdown",
   "metadata": {},
   "source": [
    "### Run HiggsSignals"
   ]
  },
  {
   "cell_type": "markdown",
   "metadata": {},
   "source": [
    "setup scanning ranges"
   ]
  },
  {
   "cell_type": "code",
   "execution_count": null,
   "metadata": {},
   "outputs": [],
   "source": [
    "df = pd.DataFrame()\n",
    "\n",
    "N = 150\n",
    "\n",
    "x = np.linspace(0, 5, N)\n",
    "y = np.linspace(0, 0.99, N)\n",
    "X, Y = np.meshgrid(x, y)\n",
    "\n",
    "df['ceff'] = X.flatten()\n",
    "df['BRNP'] = Y.flatten()"
   ]
  },
  {
   "cell_type": "markdown",
   "metadata": {},
   "source": [
    "derive HS results"
   ]
  },
  {
   "cell_type": "code",
   "execution_count": null,
   "metadata": {},
   "outputs": [],
   "source": [
    "@np.vectorize\n",
    "def calcChisqWidth(ceff, BRNP):\n",
    "    setEffC(ceff)\n",
    "    tw = setBRNP(BRNP)\n",
    "    return signals(pred), tw"
   ]
  },
  {
   "cell_type": "code",
   "execution_count": null,
   "metadata": {},
   "outputs": [],
   "source": [
    "df['chisq'], df['tw'] = calcChisqWidth(df['ceff'], df['BRNP'])"
   ]
  },
  {
   "cell_type": "markdown",
   "metadata": {},
   "source": [
    "calculate $\\Delta\\chi^2$ and cut-off all values above $8.01$ for plotting"
   ]
  },
  {
   "cell_type": "code",
   "execution_count": null,
   "metadata": {},
   "outputs": [],
   "source": [
    "df['dchisq']   = df['chisq'] - df['chisq'].min()\n",
    "\n",
    "bound = 8.01\n",
    "\n",
    "@np.vectorize\n",
    "def cutChisq(e):\n",
    "    if e < bound:\n",
    "        return e\n",
    "    else:\n",
    "        return bound\n",
    "\n",
    "df['dchisq'] = cutChisq(df['dchisq'])"
   ]
  },
  {
   "cell_type": "markdown",
   "metadata": {},
   "source": [
    "### Plotting"
   ]
  },
  {
   "cell_type": "code",
   "execution_count": null,
   "metadata": {},
   "outputs": [],
   "source": [
    "from scipy import interpolate\n",
    "import matplotlib as mpl\n",
    "import matplotlib.pyplot as plt\n",
    "from matplotlib.ticker import MultipleLocator\n",
    "from matplotlib.lines import Line2D\n",
    "from mpl_toolkits.axes_grid1 import make_axes_locatable\n",
    "\n",
    "mpl.rcParams['ytick.right'] = True\n",
    "mpl.rcParams['xtick.top'] = True\n",
    "mpl.rcParams['xtick.direction'] = 'in'\n",
    "mpl.rcParams['ytick.direction'] = 'in'\n",
    "mpl.rcParams['text.usetex'] = True\n",
    "mpl.rcParams['font.family'] = 'serif'"
   ]
  },
  {
   "cell_type": "code",
   "execution_count": null,
   "metadata": {},
   "outputs": [],
   "source": [
    "fig, ax = plt.subplots(\n",
    "        figsize=(3.0, 3.0),\n",
    "        constrained_layout=True)\n",
    "\n",
    "Z   = interpolate.griddata((df['ceff'], df['BRNP']), df['dchisq'], (X, Y), method='linear')\n",
    "Ztw = interpolate.griddata((df['ceff'], df['BRNP']), df['tw'], (X, Y), method='linear')\n",
    "\n",
    "pcm = ax.pcolormesh(\n",
    "        X, Y, Z,\n",
    "        cmap='GnBu_r',\n",
    "        rasterized=True\n",
    ")\n",
    "\n",
    "clb = fig.colorbar(\n",
    "    pcm,\n",
    "    ax=ax,\n",
    "    label=r\"$\\Delta\\chi^2$\",\n",
    "    ticks=np.arange(0, bound, 1),\n",
    "    pad=0,\n",
    "    fraction=0.1,\n",
    "    location='top',\n",
    "    aspect=40\n",
    ")\n",
    "clb.ax.minorticks_on()\n",
    "\n",
    "ax.contour(\n",
    "    X, Y, Z,\n",
    "    levels=[2.3, 5.99, 9.21],\n",
    "    colors=\"k\",\n",
    "    linestyles=[\"-\", \"--\", \":\"],\n",
    ")\n",
    "\n",
    "ax.contour(\n",
    "    X, Y, Ztw,\n",
    "    levels=[4.1e-3, 4.1e-2, 4.1e-1],\n",
    "    colors=\"red\",\n",
    "    linestyles=[\"-\", \"--\", \":\"],\n",
    ")\n",
    "\n",
    "bfp = np.unravel_index( np.argmin(Z), Z.shape)\n",
    "ax.plot( x[bfp[1]], y[bfp[0]], marker=\"*\", ls=\"none\", c=\"orange\")\n",
    "\n",
    "ax.set_xlim([0, 5])\n",
    "ax.set_ylim([0, 1])\n",
    "\n",
    "percent = \"\\%\" if plt.rcParams[\"text.usetex\"] else \"%\"\n",
    "hsLegend = ax.legend(\n",
    "    handles=[\n",
    "        Line2D([0], [0], color=\"k\", ls=\"-\", label=f\"HS 68{percent} CL\"),\n",
    "        Line2D([0], [0], color=\"k\", ls=\"--\", label=f\"HS 95{percent} CL\"),\n",
    "        Line2D([0], [0], color=\"orange\", ls=\"none\", marker=\"*\", label=\"HS BFP\"),\n",
    "        Line2D([0], [0], color=\"red\", ls=\"-\", label=r\"$\\Gamma_h^{\\mathrm{SM}}$\"),\n",
    "        Line2D([0], [0], color=\"red\", ls=\"--\", label=r\"$10\\ \\Gamma_h^{\\mathrm{SM}}$\"),\n",
    "        Line2D([0], [0], color=\"red\", ls=\":\", label=r\"$100\\ \\Gamma_h^{\\mathrm{SM}}$\"),\n",
    "    ],\n",
    "    loc=\"lower right\",\n",
    "    frameon=True,\n",
    "    ncol=1\n",
    ")\n",
    "ax.add_artist(hsLegend)\n",
    "\n",
    "ax.xaxis.set_major_locator(MultipleLocator(1))\n",
    "ax.xaxis.set_minor_locator(MultipleLocator(0.1))\n",
    "ax.yaxis.set_major_locator(MultipleLocator(.2))\n",
    "ax.yaxis.set_minor_locator(MultipleLocator(.02))\n",
    "\n",
    "ax.set_xlabel(r'$c_{\\rm{eff}}$')\n",
    "ax.set_ylabel(r'$\\rm{BR}$$(h_{125}\\to\\rm{NP})$')\n",
    "\n",
    "ax.text(\n",
    "    0.03,\n",
    "    0.97,\n",
    "    r\"\\texttt{HiggsSignals}\"\n",
    "    if plt.rcParams[\"text.usetex\"]\n",
    "    else r\"$\\mathrm{HiggsSignals}$\",\n",
    "    horizontalalignment=\"left\",\n",
    "    verticalalignment=\"top\",\n",
    "    transform=ax.transAxes,\n",
    ")\n",
    "\n",
    "plt.savefig('brnp.pdf')\n",
    "plt.show()"
   ]
  },
  {
   "cell_type": "code",
   "execution_count": null,
   "metadata": {},
   "outputs": [],
   "source": []
  }
 ],
 "metadata": {
  "interpreter": {
   "hash": "949777d72b0d2535278d3dc13498b2535136f6dfe0678499012e853ee9abcab1"
  },
  "kernelspec": {
   "display_name": "Python 3.9.12 64-bit",
   "language": "python",
   "name": "python3"
  },
  "language_info": {
   "codemirror_mode": {
    "name": "ipython",
    "version": 3
   },
   "file_extension": ".py",
   "mimetype": "text/x-python",
   "name": "python",
   "nbconvert_exporter": "python",
   "pygments_lexer": "ipython3",
   "version": "3.9.13"
  }
 },
 "nbformat": 4,
 "nbformat_minor": 4
}
