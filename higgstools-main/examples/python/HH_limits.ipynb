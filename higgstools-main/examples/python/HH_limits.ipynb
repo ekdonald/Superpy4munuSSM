{
 "cells": [
  {
   "cell_type": "markdown",
   "metadata": {},
   "source": [
    "# Example for running HiggsBounds applying HH limits"
   ]
  },
  {
   "cell_type": "code",
   "execution_count": null,
   "metadata": {},
   "outputs": [],
   "source": [
    "import Higgs.predictions as HP\n",
    "import Higgs.bounds as HB\n",
    "import numpy as np\n",
    "import pandas as pd\n",
    "\n",
    "pred = HP.Predictions() # create the model predictions\n",
    "bounds = HB.Bounds('/Path/To/HBDataSet') # load HB dataset"
   ]
  },
  {
   "cell_type": "markdown",
   "metadata": {},
   "source": [
    "### HiggsPredictions input"
   ]
  },
  {
   "cell_type": "markdown",
   "metadata": {},
   "source": [
    "add a SM-like Higgs boson with SM-like couplings"
   ]
  },
  {
   "cell_type": "code",
   "execution_count": null,
   "metadata": {},
   "outputs": [],
   "source": [
    "h = pred.addParticle(HP.NeutralScalar(\"h\", \"even\"))\n",
    "h.setMass(125.09)\n",
    "HP.effectiveCouplingInput(h, HP.smLikeEffCouplings)"
   ]
  },
  {
   "cell_type": "markdown",
   "metadata": {},
   "source": [
    "add second BSM Higgs boson which decays to two $h$ bosons and is produced via gluon fusion"
   ]
  },
  {
   "cell_type": "code",
   "execution_count": null,
   "metadata": {},
   "outputs": [],
   "source": [
    "H = pred.addParticle(HP.NeutralScalar(\"H\", \"even\"))\n",
    "H.setDecayWidth(\"h\", \"h\", 1)\n",
    "H.setCxn(\"LHC13\", \"ggH\", 1)"
   ]
  },
  {
   "cell_type": "markdown",
   "metadata": {},
   "source": [
    "### Run HiggsBounds"
   ]
  },
  {
   "cell_type": "markdown",
   "metadata": {},
   "source": [
    "setup scanning ranges"
   ]
  },
  {
   "cell_type": "code",
   "execution_count": null,
   "metadata": {},
   "outputs": [],
   "source": [
    "df = pd.DataFrame()\n",
    "\n",
    "N = 1000\n",
    "\n",
    "df['mass'] = np.linspace(250, 2001, N)"
   ]
  },
  {
   "cell_type": "markdown",
   "metadata": {},
   "source": [
    "main function which runs HB and returns list of applied limits involving $H$ bosons"
   ]
  },
  {
   "cell_type": "code",
   "execution_count": null,
   "metadata": {},
   "outputs": [],
   "source": [
    "@np.vectorize\n",
    "def runHB(mass):\n",
    "    H.setMass(mass)\n",
    "    return [a for a in bounds(pred).appliedLimits if \"H\" in a.contributingParticles()]\n"
   ]
  },
  {
   "cell_type": "markdown",
   "metadata": {},
   "source": [
    "derive HB results"
   ]
  },
  {
   "cell_type": "code",
   "execution_count": null,
   "metadata": {},
   "outputs": [],
   "source": [
    "df['appliedLimits'] = runHB(df['mass'])"
   ]
  },
  {
   "cell_type": "markdown",
   "metadata": {},
   "source": [
    "get list of all applied limits"
   ]
  },
  {
   "cell_type": "code",
   "execution_count": null,
   "metadata": {},
   "outputs": [],
   "source": [
    "limits = list({a.limit() for res in df['appliedLimits'] for a in res})\n",
    "limits.sort(key=lambda l: str(l.id()))"
   ]
  },
  {
   "cell_type": "code",
   "execution_count": null,
   "metadata": {},
   "outputs": [],
   "source": [
    "@np.vectorize\n",
    "def get_obsratio(alims, id):\n",
    "    for a in alims:\n",
    "        if a.limit().id() == id:\n",
    "            return a.obsRatio()\n",
    "    return np.NaN"
   ]
  },
  {
   "cell_type": "code",
   "execution_count": null,
   "metadata": {},
   "outputs": [],
   "source": [
    "for lim in limits:\n",
    "    df[lim.id()] = get_obsratio(df['appliedLimits'], lim.id())"
   ]
  },
  {
   "cell_type": "markdown",
   "metadata": {},
   "source": [
    "### Plotting"
   ]
  },
  {
   "cell_type": "code",
   "execution_count": null,
   "metadata": {},
   "outputs": [],
   "source": [
    "import matplotlib as mpl\n",
    "import matplotlib.pyplot as plt\n",
    "from matplotlib.ticker import MultipleLocator\n",
    "\n",
    "mpl.rcParams['ytick.right'] = True\n",
    "mpl.rcParams['xtick.top'] = True\n",
    "mpl.rcParams['xtick.direction'] = 'in'\n",
    "mpl.rcParams['ytick.direction'] = 'in'\n",
    "mpl.rcParams['text.usetex'] = True\n",
    "mpl.rcParams['font.family'] = 'serif'\n",
    "\n",
    "def formatProcess(desc):\n",
    "    parts = desc.split(\"->\")\n",
    "    finalState = \"\".join(parts[-2:]).replace(\")(X3\", \"\").replace(\")\", \"\")\n",
    "    if len(finalState) > 20:\n",
    "        return \"comb\"\n",
    "    return finalState"
   ]
  },
  {
   "cell_type": "code",
   "execution_count": null,
   "metadata": {},
   "outputs": [],
   "source": [
    "fig, ax = plt.subplots()\n",
    "\n",
    "for lim in limits:\n",
    "    ax.plot(\n",
    "        df['mass'],\n",
    "        1 / df[lim.id()],\n",
    "        ls=\"-\" if lim.experiment() == HP.Experiment.ATLAS else \"--\",\n",
    "        label=\"{} {}\".format(lim.reference(), formatProcess(lim.processDesc())),\n",
    "    )\n",
    "\n",
    "ax.set_yscale(\"log\")\n",
    "\n",
    "plt.xlim([250, 2000])\n",
    "plt.ylim([4*10**-3, 2*10**2])\n",
    "\n",
    "ax.set_xlabel(r\"$m_H$ [GeV]\")\n",
    "ax.set_ylabel(r\"$\\sigma(pp \\to H \\to h_{125} h_{125})$ [pb]\")\n",
    "\n",
    "ax.xaxis.set_major_locator(MultipleLocator(200))\n",
    "ax.xaxis.set_minor_locator(MultipleLocator(20))\n",
    "\n",
    "atlaslims = [\n",
    "    l for l in ax.get_lines() if l.get_linestyle() == \"-\" or l.get_linestyle() == \":\"\n",
    "]\n",
    "cmslims = [\n",
    "    l for l in ax.get_lines() if l.get_linestyle() == \"--\" or l.get_linestyle() == \"-.\"\n",
    "]\n",
    "legend1 = ax.legend(\n",
    "    atlaslims,\n",
    "    [l.get_label() for l in atlaslims],\n",
    "    loc=\"upper left\",\n",
    "    title=\"ATLAS $13\\,\\mathrm{TeV}$\",\n",
    "    bbox_to_anchor=(1.03, 1.02),\n",
    ")\n",
    "legend2 = ax.legend(\n",
    "    cmslims,\n",
    "    [l.get_label() for l in cmslims],\n",
    "    loc=\"upper left\",\n",
    "    title=\"CMS $13\\,\\mathrm{TeV}$\",\n",
    "    bbox_to_anchor=(1.03, 0.502),\n",
    ")\n",
    "ax.add_artist(legend1)\n",
    "ax.add_artist(legend2)\n",
    "\n",
    "plt.savefig('double.pdf', bbox_inches='tight')\n",
    "plt.show()"
   ]
  },
  {
   "cell_type": "code",
   "execution_count": null,
   "metadata": {},
   "outputs": [],
   "source": []
  }
 ],
 "metadata": {
  "interpreter": {
   "hash": "949777d72b0d2535278d3dc13498b2535136f6dfe0678499012e853ee9abcab1"
  },
  "kernelspec": {
   "display_name": "Python 3.9.12 64-bit",
   "language": "python",
   "name": "python3"
  },
  "language_info": {
   "codemirror_mode": {
    "name": "ipython",
    "version": 3
   },
   "file_extension": ".py",
   "mimetype": "text/x-python",
   "name": "python",
   "nbconvert_exporter": "python",
   "pygments_lexer": "ipython3",
   "version": "3.9.13"
  }
 },
 "nbformat": 4,
 "nbformat_minor": 4
}
