{
 "cells": [
  {
   "cell_type": "markdown",
   "metadata": {},
   "source": [
    "# Example for running HiggsTools for a SM Higgs"
   ]
  },
  {
   "cell_type": "code",
   "execution_count": null,
   "metadata": {},
   "outputs": [],
   "source": [
    "import Higgs.predictions as HP\n",
    "import Higgs.bounds as HB\n",
    "import Higgs.signals as HS\n",
    "\n",
    "pred = HP.Predictions() # create the model predictions\n",
    "bounds = HB.Bounds('/Path/To/HBDataSet') # load HB dataset\n",
    "signals = HS.Signals('/Path/To/HSDataSet') # load HS dataset"
   ]
  },
  {
   "cell_type": "markdown",
   "metadata": {},
   "source": [
    "### HiggsPredictions input"
   ]
  },
  {
   "cell_type": "code",
   "execution_count": null,
   "metadata": {},
   "outputs": [],
   "source": [
    "# add a SM-like particle\n",
    "h = pred.addParticle(HP.NeutralScalar(\"h\", \"even\"))\n",
    "h.setMass(125.09)\n",
    "\n",
    "# give particle SM-like couplings\n",
    "HP.effectiveCouplingInput(h, HP.smLikeEffCouplings, reference=\"SMHiggsEW\")"
   ]
  },
  {
   "cell_type": "markdown",
   "metadata": {},
   "source": [
    "### Run HiggsBounds"
   ]
  },
  {
   "cell_type": "code",
   "execution_count": null,
   "metadata": {},
   "outputs": [],
   "source": [
    "hbresult = bounds(pred)\n",
    "print(hbresult)"
   ]
  },
  {
   "cell_type": "markdown",
   "metadata": {},
   "source": [
    "### Run HiggsSignals"
   ]
  },
  {
   "cell_type": "code",
   "execution_count": null,
   "metadata": {},
   "outputs": [],
   "source": [
    "chisqSM = signals(pred)\n",
    "print(f\"HiggsSignals SM chisq: {chisqSM}\")"
   ]
  },
  {
   "cell_type": "markdown",
   "metadata": {},
   "source": [
    "### Add a small BSM lepton-flavor violating decay\n",
    "\n",
    "There are very strong limits on this kind of process in HiggsBounds."
   ]
  },
  {
   "cell_type": "code",
   "execution_count": null,
   "metadata": {},
   "outputs": [],
   "source": [
    "# set h -> emu decay width\n",
    "h.setDecayWidth(\"emu\", 1e-6)\n",
    "\n",
    "# evaluate HiggsBounds\n",
    "hbresult = bounds(pred)\n",
    "print(hbresult)\n",
    "\n",
    "# evaluate HiggsSignals\n",
    "chisq = signals(pred)\n",
    "\n",
    "print(f\"HiggsSignals chisq: {chisq} compared to a SM chisq of {chisqSM}\")\n",
    "print(f\"number of observables used by HiggsSignals: {signals.observableCount()}\")"
   ]
  }
 ],
 "metadata": {
  "interpreter": {
   "hash": "949777d72b0d2535278d3dc13498b2535136f6dfe0678499012e853ee9abcab1"
  },
  "kernelspec": {
   "display_name": "Python 3.9.12 64-bit",
   "language": "python",
   "name": "python3"
  },
  "language_info": {
   "codemirror_mode": {
    "name": "ipython",
    "version": 3
   },
   "file_extension": ".py",
   "mimetype": "text/x-python",
   "name": "python",
   "nbconvert_exporter": "python",
   "pygments_lexer": "ipython3",
   "version": "3.10.10"
  }
 },
 "nbformat": 4,
 "nbformat_minor": 4
}
